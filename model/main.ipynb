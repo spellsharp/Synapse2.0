{
  "cells": [
    {
      "cell_type": "code",
      "execution_count": 1,
      "metadata": {
        "colab": {
          "base_uri": "https://localhost:8080/"
        },
        "id": "EP73rGlBIexM",
        "outputId": "9a720e1e-63d8-40ec-eba0-3435e5022a87"
      },
      "outputs": [
        {
          "name": "stdout",
          "output_type": "stream",
          "text": [
            "/home/spellsharp/Synapse2.0/model/Lane_and_Object_Detection\n"
          ]
        }
      ],
      "source": [
        "%cd Lane_and_Object_Detection"
      ]
    },
    {
      "cell_type": "code",
      "execution_count": 2,
      "metadata": {
        "colab": {
          "base_uri": "https://localhost:8080/"
        },
        "id": "gOdI4cW2h4zk",
        "outputId": "c263d110-d18c-4d96-84b6-5044e8a779a0"
      },
      "outputs": [
        {
          "name": "stdout",
          "output_type": "stream",
          "text": [
            "Defaulting to user installation because normal site-packages is not writeable\n",
            "Requirement already satisfied: numpy==1.23.0 in /home/spellsharp/.local/lib/python3.10/site-packages (1.23.0)\n",
            "Defaulting to user installation because normal site-packages is not writeable\n",
            "Requirement already satisfied: docopt in /home/spellsharp/.local/lib/python3.10/site-packages (0.6.2)\n",
            "Defaulting to user installation because normal site-packages is not writeable\n",
            "Requirement already satisfied: moviepy in /home/spellsharp/.local/lib/python3.10/site-packages (1.0.3)\n",
            "Requirement already satisfied: numpy in /home/spellsharp/.local/lib/python3.10/site-packages (from moviepy) (1.23.0)\n",
            "Requirement already satisfied: imageio-ffmpeg>=0.2.0 in /home/spellsharp/.local/lib/python3.10/site-packages (from moviepy) (0.4.9)\n",
            "Requirement already satisfied: requests<3.0,>=2.8.1 in /home/spellsharp/.local/lib/python3.10/site-packages (from moviepy) (2.31.0)\n",
            "Requirement already satisfied: imageio<3.0,>=2.5 in /home/spellsharp/.local/lib/python3.10/site-packages (from moviepy) (2.34.0)\n",
            "Requirement already satisfied: proglog<=1.0.0 in /home/spellsharp/.local/lib/python3.10/site-packages (from moviepy) (0.1.10)\n",
            "Requirement already satisfied: decorator<5.0,>=4.0.2 in /home/spellsharp/.local/lib/python3.10/site-packages (from moviepy) (4.4.2)\n",
            "Requirement already satisfied: tqdm<5.0,>=4.11.2 in /home/spellsharp/.local/lib/python3.10/site-packages (from moviepy) (4.64.0)\n",
            "Requirement already satisfied: pillow>=8.3.2 in /home/spellsharp/.local/lib/python3.10/site-packages (from imageio<3.0,>=2.5->moviepy) (10.2.0)\n",
            "Requirement already satisfied: setuptools in /home/spellsharp/.local/lib/python3.10/site-packages (from imageio-ffmpeg>=0.2.0->moviepy) (68.2.2)\n",
            "Requirement already satisfied: urllib3<3,>=1.21.1 in /home/spellsharp/.local/lib/python3.10/site-packages (from requests<3.0,>=2.8.1->moviepy) (1.26.9)\n",
            "Requirement already satisfied: idna<4,>=2.5 in /home/spellsharp/.local/lib/python3.10/site-packages (from requests<3.0,>=2.8.1->moviepy) (2.10)\n",
            "Requirement already satisfied: certifi>=2017.4.17 in /home/spellsharp/.local/lib/python3.10/site-packages (from requests<3.0,>=2.8.1->moviepy) (2023.7.22)\n",
            "Requirement already satisfied: charset-normalizer<4,>=2 in /home/spellsharp/.local/lib/python3.10/site-packages (from requests<3.0,>=2.8.1->moviepy) (2.1.0)\n"
          ]
        }
      ],
      "source": [
        "!pip install numpy==1.23.0\n",
        "!pip install docopt\n",
        "!pip install moviepy"
      ]
    },
    {
      "cell_type": "code",
      "execution_count": 7,
      "metadata": {
        "colab": {
          "base_uri": "https://localhost:8080/",
          "height": 391
        },
        "id": "twcSHvJyKY19",
        "outputId": "7fda7685-870c-4951-c6cf-f51ce8cf794b"
      },
      "outputs": [],
      "source": [
        "import numpy as np\n",
        "import matplotlib.image as mpimg\n",
        "import cv2\n",
        "from docopt import docopt\n",
        "from IPython.display import HTML\n",
        "from IPython.core.display import Video\n",
        "from moviepy.editor import VideoFileClip\n",
        "from CameraCalibration import CameraCalibration\n",
        "from Thresholding import *\n",
        "from PerspectiveTransformation import *\n",
        "from LaneLines import *\n",
        "from ObjectDetection import *\n",
        "\n",
        "class FindLaneLines:\n",
        "    def __init__(self):\n",
        "        \"\"\" Init Application\"\"\"\n",
        "        self.calibration = CameraCalibration('camera_cal', 9, 6)\n",
        "        self.thresholding = Thresholding()\n",
        "        self.transform = PerspectiveTransformation()\n",
        "        self.lanelines = LaneLines()\n",
        "\n",
        "    def forward(self, img):\n",
        "        out_img = np.copy(img)\n",
        "        img = self.calibration.undistort(img)\n",
        "        img = self.transform.forward(img)\n",
        "        img = self.thresholding.forward(img)\n",
        "        img = self.lanelines.forward(img)\n",
        "        img = self.transform.backward(img)\n",
        "\n",
        "        # Resize img to match the size of out_img\n",
        "        img = cv2.resize(img, (out_img.shape[1], out_img.shape[0]))\n",
        "\n",
        "        # Convert both images to the same color space (BGR in this case)\n",
        "        out_img = cv2.cvtColor(out_img, cv2.COLOR_RGB2BGR)\n",
        "        img = cv2.cvtColor(img, cv2.COLOR_RGB2BGR)\n",
        "\n",
        "        # Now you can call cv2.addWeighted without getting an error\n",
        "        out_img = cv2.addWeighted(out_img, 1, img, 0.6, 0)\n",
        "        out_img = self.lanelines.plot(out_img)\n",
        "        return out_img\n",
        "\n",
        "    def process_image(self, input_path, output_path):\n",
        "        img = mpimg.imread(input_path)\n",
        "        out_img = self.forward(img)\n",
        "        mpimg.imsave(output_path, out_img)\n",
        "\n",
        "    def process_video(self, input_path, output_path):\n",
        "        clip = VideoFileClip(input_path)\n",
        "        out_clip = clip.fl_image(self.forward)\n",
        "        out_clip.write_videofile(output_path, audio=False)\n",
        "\n",
        "    def process_stream(self, input_stream):\n",
        "        cap = cv2.VideoCapture(input_stream)\n",
        "\n",
        "        while(cap.isOpened()):\n",
        "            ret, frame = cap.read()\n",
        "            if ret:\n",
        "                out_frame = self.forward(frame)\n",
        "                out_frame = cv2.resize(out_frame, (640, 480))\n",
        "                # out_frame = detect_vehicles(out_frame)\n",
        "                cv2.imshow('Lane Detection', out_frame)\n",
        "                if cv2.waitKey(1) & 0xFF == ord('q'):\n",
        "                    break\n",
        "            else:\n",
        "                break\n",
        "\n",
        "        cap.release()\n",
        "        cv2.destroyAllWindows()\n",
        "\n",
        "def main():\n",
        "    findLaneLines = FindLaneLines()\n",
        "    findLaneLines.process_stream(\"/input_videos/harder_challenge_video.mp4\")\n",
        "\n",
        "if __name__ == \"__main__\":\n",
        "    main()"
      ]
    }
  ],
  "metadata": {
    "colab": {
      "provenance": []
    },
    "kernelspec": {
      "display_name": "Python 3",
      "name": "python3"
    },
    "language_info": {
      "codemirror_mode": {
        "name": "ipython",
        "version": 3
      },
      "file_extension": ".py",
      "mimetype": "text/x-python",
      "name": "python",
      "nbconvert_exporter": "python",
      "pygments_lexer": "ipython3",
      "version": "3.10.12"
    }
  },
  "nbformat": 4,
  "nbformat_minor": 0
}
